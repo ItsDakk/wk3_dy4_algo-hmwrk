{
 "cells": [
  {
   "cell_type": "markdown",
   "metadata": {},
   "source": [
    "# Time/Space Complexity - Intro to Data Structures (User Defined)\n",
    "\n",
    "### Topics to discuss today:\n",
    "\n",
    "<ul>\n",
    "    <li>Time and Space Complexity - What is it/How do we measure it</li>\n",
    "    <li>Asymptotic Analysis</li>\n",
    "    <li><strong>Data Structures</strong></li>\n",
    "    <li>Some of the popular sorting algorithms</li>\n",
    "</ul>\n",
    "\n",
    "### Data Structures to discuss:\n",
    "- Arrays\n",
    "- Stacks\n",
    "- Queues\n",
    "- Linked Lists\n",
    "    - Singly Linked Lists\n",
    "    - Traversing A Linked List\n",
    "    - Finding a node in a linked list\n",
    "    - Adding to a linked list\n",
    "- Binary Search Trees\n",
    "    - Construction\n",
    "    - Traversal\n"
   ]
  },
  {
   "cell_type": "markdown",
   "metadata": {},
   "source": [
    "## Time and Space Complexity (STUDY, STUDY!!)\n",
    "\n",
    "#### What is it?\n",
    "\n",
    "Time and space complexity is the measure of how much time a given action(function) will take to solve a problem. In the same fashion, we determine how much a given data structure will need in terms of memory allocation. A problem can have multiple solutions and finding the optimal solution for the problem needs to be analyzed in time and space.\n",
    "\n",
    "#### How do we measure Time and Space Complexity?\n",
    "\n",
    "In order to measure time and space complexity we use Asymptotic analysis. The reason for this is because we need a way to measure different algorithms (functions) based on the size of their inputs in a mathmatical way. For example, we could have a function that is computed as f(n) and another that is g(n^2). All things around the function staying constant, the only thing that changes is the size of the input. Below is the chart that shows the different Asymptotic analysis formats. "
   ]
  },
  {
   "cell_type": "markdown",
   "metadata": {},
   "source": [
    "<table style=\"text-align:center;\" class=\"table table-bordered\">\n",
    "<tbody><tr>\n",
    "<td>constant</td>\n",
    "<td> Something that is constant</td>\n",
    "<td>Ο(1)</td>\n",
    "</tr>\n",
    "<tr>\n",
    "<td>logarithmic</td>\n",
    "<td>log(n) is like halving every time</td>\n",
    "<td>Ο(log n)</td>\n",
    "</tr>\n",
    "<tr>\n",
    "<td>linear</td>\n",
    "<td>'for' loop is a linear operation. It scales linerarly. Double 'for' loop is O(n*)</td>\n",
    "<td>Ο(n)</td>\n",
    "</tr>\n",
    "<tr>\n",
    "<td>Linear Logarithmic</td>\n",
    "<td></td>\n",
    "<td>Ο(n log n)</td>\n",
    "</tr>\n",
    "<tr>\n",
    "<td>quadratic</td>\n",
    "<td>−</td>\n",
    "<td>Ο(n<sup>2</sup>)</td>\n",
    "</tr>\n",
    "<tr>\n",
    "<td>cubic</td>\n",
    "<td>−</td>\n",
    "<td>Ο(n<sup>3</sup>)</td>\n",
    "</tr>\n",
    "<tr>\n",
    "<td>polynomial</td>\n",
    "<td>−</td>\n",
    "<td>n<sup>Ο(1)</sup></td>\n",
    "</tr>\n",
    "<tr>\n",
    "<td>exponential</td>\n",
    "<td>−</td>\n",
    "<td>2<sup>Ο(n)</sup></td>\n",
    "</tr>\n",
    "</tbody></table>"
   ]
  },
  {
   "cell_type": "markdown",
   "metadata": {},
   "source": [
    "## Set <br>\n",
    "<p>A Set is an unordered collection data type that is iterable (loop), mutable, and has no duplicate elements.<br>Major advantage is that it is highly optimized in checking if something is in the set, as opposed to checking if something is in a list.</p>"
   ]
  },
  {
   "cell_type": "markdown",
   "metadata": {},
   "source": [
    "##### Declaring"
   ]
  },
  {
   "cell_type": "code",
   "execution_count": 10,
   "metadata": {},
   "outputs": [
    {
     "name": "stdout",
     "output_type": "stream",
     "text": [
      "<class 'set'>\n",
      "{1, 2, 3, 4}\n",
      "<class 'set'>\n",
      "{1, 2, 3, 4}\n",
      "<class 'set'>\n",
      "{'u', 'a', 'o', 'e', 'i'}\n"
     ]
    }
   ],
   "source": [
    "# set() or {} \n",
    "# An unordered collection\n",
    "# Does not have a key, value pair \n",
    "# Highly optimized in checking if something is inside that set\n",
    "# This is O(1) meaning it's instant\n",
    "# It will remove any duplicates in the set\n",
    "\n",
    "s1 = {1,2,3,4}\n",
    "print(type(s1))\n",
    "print(s1)\n",
    "\n",
    "s2 = set([1,2,3,4])\n",
    "print(type(s2))\n",
    "print(s1)\n",
    "\n",
    "s3 = set() # have to use empty parentheses when declaring an empty set \n",
    "print(type(s3))\n",
    "\n",
    "vowels = ['a', 'e', 'i', 'o', 'u', 'u']\n",
    "set_vowels = set(vowels)\n",
    "print(set_vowels)"
   ]
  },
  {
   "cell_type": "markdown",
   "metadata": {},
   "source": [
    "##### .add()"
   ]
  },
  {
   "cell_type": "code",
   "execution_count": 12,
   "metadata": {},
   "outputs": [
    {
     "name": "stdout",
     "output_type": "stream",
     "text": [
      "{1, 2, 4, 8}\n",
      "{1, 2, 4, 8}\n"
     ]
    }
   ],
   "source": [
    "# set.add()\n",
    "s1.add(8)\n",
    "print(s1)\n",
    "s1.add(2)\n",
    "print(s1) # Doesn't get updated because it's already in the list\n"
   ]
  },
  {
   "cell_type": "markdown",
   "metadata": {},
   "source": [
    "##### .remove()"
   ]
  },
  {
   "cell_type": "code",
   "execution_count": 11,
   "metadata": {},
   "outputs": [
    {
     "name": "stdout",
     "output_type": "stream",
     "text": [
      "{1, 2, 4}\n"
     ]
    }
   ],
   "source": [
    "# removes by value\n",
    "# set.remove()\n",
    "s1.remove(3)\n",
    "print(s1)\n"
   ]
  },
  {
   "cell_type": "markdown",
   "metadata": {},
   "source": [
    "##### .union() "
   ]
  },
  {
   "cell_type": "code",
   "execution_count": 14,
   "metadata": {},
   "outputs": [
    {
     "name": "stdout",
     "output_type": "stream",
     "text": [
      "{1, 2, 3, 4, 5, 6, 7}\n",
      "{1, 2, 3, 4, 5, 6, 7}\n"
     ]
    }
   ],
   "source": [
    "s1 = {1,2,3,4} \n",
    "s2 = {4,5,6,7}\n",
    "print(s1|s2) # Returns a union of two sets, can also use '|' or set.union(set)\n",
    "print(s1.union(s2)) # joins all numbers, gets rid of duplicates # Out-of-place algo\n"
   ]
  },
  {
   "cell_type": "markdown",
   "metadata": {},
   "source": [
    "##### .intersection()"
   ]
  },
  {
   "cell_type": "code",
   "execution_count": 15,
   "metadata": {},
   "outputs": [
    {
     "name": "stdout",
     "output_type": "stream",
     "text": [
      "{4}\n",
      "{4}\n"
     ]
    }
   ],
   "source": [
    "print(s1 & s2) # Returns an intersection of two sets, can also use '&'\n",
    "print(s1.intersection(s2)) # only takes similar elements from both sets\n"
   ]
  },
  {
   "cell_type": "markdown",
   "metadata": {},
   "source": [
    "##### .difference()"
   ]
  },
  {
   "cell_type": "code",
   "execution_count": 16,
   "metadata": {},
   "outputs": [
    {
     "name": "stdout",
     "output_type": "stream",
     "text": [
      "{1, 2, 3}\n",
      "{5, 6, 7}\n"
     ]
    }
   ],
   "source": [
    "# order matters!\n",
    "print(s1 - s2) # Returns a set containing all the elements of invoking set that are not in the second set, can also use '-'\n",
    "print(s2.difference(s1))# only takes values from the first set that are not in the second set\n"
   ]
  },
  {
   "cell_type": "markdown",
   "metadata": {},
   "source": [
    "##### .clear()"
   ]
  },
  {
   "cell_type": "code",
   "execution_count": 17,
   "metadata": {},
   "outputs": [
    {
     "name": "stdout",
     "output_type": "stream",
     "text": [
      "{1, 2, 3, 4}\n",
      "set()\n"
     ]
    }
   ],
   "source": [
    "# Empties the whole set\n",
    "# set.clear()\n",
    "# in-place function, meaning the intergirty of the original is changed\n",
    "print(s1)\n",
    "s1.clear()\n",
    "print(s1)\n"
   ]
  },
  {
   "cell_type": "markdown",
   "metadata": {},
   "source": [
    "##### Frozenset <br>\n",
    "<p>Frozen sets are immutable objects that only support methods and operators that produce a result without affecting the frozen set or sets to which they are applied.</p><br><b>Unique & Immutable</b>"
   ]
  },
  {
   "cell_type": "code",
   "execution_count": 19,
   "metadata": {},
   "outputs": [
    {
     "name": "stdout",
     "output_type": "stream",
     "text": [
      "frozenset({1, 2, 3, 4, 5, 7, 8, 9, 10})\n",
      "<class 'frozenset'>\n"
     ]
    },
    {
     "data": {
      "text/plain": [
       "{1, 2, 3, 4, 5, 6, 7, 8, 9, 10}"
      ]
     },
     "execution_count": 19,
     "metadata": {},
     "output_type": "execute_result"
    }
   ],
   "source": [
    "# frozenset([])\n",
    "fs = frozenset([1,2,3,4,5,7,7,7,7,7,8,9,10])\n",
    "print(fs)\n",
    "print(type(fs))\n",
    "\n",
    "# Still has the ability to do unions and intersections\n",
    "s2.union(fs)"
   ]
  },
  {
   "cell_type": "markdown",
   "metadata": {},
   "source": [
    "## Arrays"
   ]
  },
  {
   "cell_type": "markdown",
   "metadata": {},
   "source": [
    "In python we benefit from the dynamic array which means the block of memory will expand as needed for the given input to the array. In traditional arrays (depending on the type of operating system) we will usually store our inputs in 4 or 8 consecutive blocks of memory. Below is a diagram of how that looks under the hood:\n",
    "\n",
    "<img src=\"http://www.mathcs.emory.edu/~cheung/Courses/170/Syllabus/09/FIGS/array02x.gif\" style=\"height:250px; width:350px;\">"
   ]
  },
  {
   "cell_type": "markdown",
   "metadata": {},
   "source": [
    "## Which in python looks like this:"
   ]
  },
  {
   "cell_type": "code",
   "execution_count": 20,
   "metadata": {},
   "outputs": [
    {
     "name": "stdout",
     "output_type": "stream",
     "text": [
      "[23, 4, 6, 18, 5, 7]\n"
     ]
    }
   ],
   "source": [
    "# Ordered, mutable\n",
    "\n",
    "array = [23,4,6,18,5,7]\n",
    "print(array)"
   ]
  },
  {
   "cell_type": "markdown",
   "metadata": {},
   "source": [
    "### Let's take a look at some of the time and space analysis of arrays"
   ]
  },
  {
   "cell_type": "code",
   "execution_count": 21,
   "metadata": {},
   "outputs": [
    {
     "name": "stdout",
     "output_type": "stream",
     "text": [
      "6\n",
      "[23, 4, 6, 18, 5, 9999]\n"
     ]
    }
   ],
   "source": [
    "# Indexing a list\n",
    "indexing = array[2] # Constant space and time | O(1)\n",
    "\n",
    "# Searching through a list\n",
    "# Linear Time O(n) and Constant Space O(1)\n",
    "for i in array:\n",
    "    if i == 6:\n",
    "        print(i)\n",
    "# Copy list\n",
    "# Linear Time O(n) and Linear Space O(n)\n",
    "copy = array[:]\n",
    "\n",
    "# Setting an index in a list\n",
    "# Constant Time & Constance Space - O(1)\n",
    "array[5] = 9999\n",
    "print(array)\n",
    "\n"
   ]
  },
  {
   "cell_type": "markdown",
   "metadata": {},
   "source": [
    "## Stacks and Queues (Review)\n",
    "\n",
    "** Stacks ** as the name suggests is a data structure that allows for data to follow the Last In First Out priciple(LIFO). Think of a stack of pancakes for example. To get the first pancake you would  start with the top and go down.\n",
    "\n",
    "##### Searching through a stack will be Linear Time O(n) - Constant Space O(1)\n",
    "##### Selecting the last item will be done in Constant Time O(1) - Constant Space O(1)\n",
    "##### Adding to the stack should take Constant Time O(1) - Constant Space O(1)\n",
    "\n",
    "** Queues ** are similar but in this case follow the First In First Out principle(FIFO). Think of this as a line in a black friday sale. The first person camped out for the big screen tv is the first to get it.\n",
    "\n",
    "##### Searching through a queue will be Linear Time O(n) - Constant Space O(1)\n",
    "##### Selecting the first item will be done in Constant Time O(1) - Constant Space O(1)\n",
    "##### Adding to the queue should take Constant Time O(1) - Constant Space O(1)"
   ]
  },
  {
   "cell_type": "code",
   "execution_count": 26,
   "metadata": {},
   "outputs": [
    {
     "name": "stdout",
     "output_type": "stream",
     "text": [
      "[10, 20, 30]\n",
      "[10, 20]\n",
      "30\n",
      "['Ash', 'Brock', 'Misty']\n",
      "Ash\n",
      "['Brock', 'Misty']\n"
     ]
    }
   ],
   "source": [
    "stack = []\n",
    "\n",
    "stack.append(10)\n",
    "stack.append(20)\n",
    "stack.append(30)\n",
    "print(stack)\n",
    "\n",
    "last_item = stack.pop()\n",
    "print(stack)\n",
    "print(last_item)\n",
    "\n",
    "# Searching through a stack - Linear Time 0(n) and Constant Space 0(1)\n",
    "\n",
    "queue = []\n",
    "queue.append(\"Ash\")\n",
    "queue.append(\"Brock\")\n",
    "queue.append(\"Misty\")\n",
    "\n",
    "print(queue)\n",
    "first_person = queue.pop(0)\n",
    "print(first_person)\n",
    "print(queue)"
   ]
  },
  {
   "cell_type": "markdown",
   "metadata": {},
   "source": [
    "## Linked List (Data Structure)\n",
    "\n",
    "A linked list is created by using the node class. We create a Node object and create another class to use this node object. We pass the appropriate values thorugh the node object to point the to the next data elements.\n",
    "\n",
    "There are some advantages and disadvantages with this data structure. <br>**Advantages** Linked Lists can save memory because they can be flexibile with memory management which saves memory.<br> **Disadvantages** Finding or adding to the list requires traversing the entire list."
   ]
  },
  {
   "cell_type": "code",
   "execution_count": 32,
   "metadata": {},
   "outputs": [
    {
     "name": "stdout",
     "output_type": "stream",
     "text": [
      "1\n",
      "2\n",
      "3\n",
      "4\n"
     ]
    }
   ],
   "source": [
    "# You only have access to the first Node when creating a linked list (known as the head of the linked list)\n",
    "\n",
    "class LinkedListNode():\n",
    "    def __init__(self, value):\n",
    "        self.value = value\n",
    "        self.next = None\n",
    "    def traverse(self):\n",
    "        node = self\n",
    "        while node != None:\n",
    "            print(node.value)\n",
    "            node = node.next\n",
    "        \n",
    "    \n",
    "node1 = LinkedListNode(1)\n",
    "node2 = LinkedListNode(2)\n",
    "node3 = LinkedListNode(3)\n",
    "node4 = LinkedListNode(4)\n",
    "\n",
    "node1.next = node2\n",
    "node2.next = node3\n",
    "node3.next = node4 # Pointing to nothing because Node 4 doesn't have anything to connect to\n",
    "\n",
    "#print(node1.next.next.next.value)\n",
    "\n",
    "node1.traverse()"
   ]
  },
  {
   "cell_type": "code",
   "execution_count": 5,
   "metadata": {},
   "outputs": [
    {
     "name": "stdout",
     "output_type": "stream",
     "text": [
      "Sun\n",
      "Mon\n",
      "Tues\n",
      "Wed\n",
      "Thur\n"
     ]
    }
   ],
   "source": [
    "class Node:\n",
    "    def __init__(self, value):\n",
    "        self.value = value\n",
    "        self.next = None\n",
    "\n",
    "\n",
    "class LinkedList:\n",
    "    def __init__(self):\n",
    "        self.head = None\n",
    "    \n",
    "    def prepend(self, new_value):\n",
    "        new_node = Node(new_value)\n",
    "        new_node.next = self.head\n",
    "        self.head = new_node\n",
    "    \n",
    "    def append(self, new_value):\n",
    "        # Create the new_node\n",
    "        new_node = Node(new_value)\n",
    "        \n",
    "        # Check if the linked list is empty\n",
    "        if self.head is None:\n",
    "            self.head = new_node\n",
    "            return\n",
    "        \n",
    "        # But if the list is not empty, need to traverse to the end\n",
    "        # Add the new_node to the end\n",
    "        \n",
    "        last = self.head\n",
    "        while last.next:\n",
    "            last = last.next\n",
    "            \n",
    "        last.next = new_node    \n",
    "    \n",
    "    def insertAfter(self, prev_node, new_value):\n",
    "        # Check if the previous Node even exists\n",
    "        if prev_node is None:\n",
    "            print(\"The given node is empty!\")\n",
    "            return\n",
    "        # If Node is not empty, then create a new_node\n",
    "        new_node = Node(new_value)\n",
    "        \n",
    "        # Update the new_nodes next pointer to point to the prev_nodes next\n",
    "        new_node.next = prev_node.next\n",
    "        # Update the prev Node to point at the new Node\n",
    "        prev_node.next = new_node\n",
    "    \n",
    "    def traverse(self):\n",
    "        node = self.head\n",
    "        while node != None:\n",
    "            print(node.value)\n",
    "            node = node.next\n",
    "            \n",
    "weekday_links = LinkedList()\n",
    "weekday_links.prepend('Mon')\n",
    "weekday_links.append('Tues')\n",
    "weekday_links.append('Thur')\n",
    "weekday_links.insertAfter(weekday_links.head.next, 'Wed')\n",
    "weekday_links.prepend('Sun')\n",
    "\n",
    "weekday_links.traverse()"
   ]
  },
  {
   "cell_type": "markdown",
   "metadata": {},
   "source": [
    "## Binary Search Trees"
   ]
  },
  {
   "cell_type": "code",
   "execution_count": 1,
   "metadata": {},
   "outputs": [
    {
     "name": "stdout",
     "output_type": "stream",
     "text": [
      "True\n",
      "False\n",
      "1\n",
      "17\n",
      "None\n",
      "None\n",
      "2\n"
     ]
    },
    {
     "data": {
      "text/plain": [
       "7"
      ]
     },
     "execution_count": 1,
     "metadata": {},
     "output_type": "execute_result"
    }
   ],
   "source": [
    "class BST:\n",
    "    def __init__(self, value):\n",
    "        self.value = value\n",
    "        self.left = None\n",
    "        self.right = None\n",
    "        \n",
    "    def insert(self, value):\n",
    "        if value < self.value:\n",
    "            if self.left is None:\n",
    "                self.left = BST(value)\n",
    "            else:\n",
    "                self.left.insert(value)\n",
    "        else:\n",
    "            if self.right is None:\n",
    "                self.right = BST(value)\n",
    "            else:\n",
    "                self.right.insert(value)      \n",
    "        return self\n",
    "    \n",
    "    def contains(self, value):\n",
    "        if value < self.value:\n",
    "            if self.left is None:\n",
    "                return False\n",
    "            else:\n",
    "                return self.left.contains(value)\n",
    "        elif value > self.value:\n",
    "            if self.right is None:\n",
    "                return False\n",
    "            else:\n",
    "                return self.right.contains(value)\n",
    "        else:\n",
    "            return True\n",
    "    \n",
    "    def get_min(self):\n",
    "        if self.left is None:\n",
    "            return self.value\n",
    "        else:\n",
    "            return self.left.get_min()\n",
    "    \n",
    "    def get_max(self):\n",
    "        if self.right is None:\n",
    "            return self.value\n",
    "        else:\n",
    "            return self.right.get_max()\n",
    "    \n",
    "    def remove(self, value, parent=None):\n",
    "        if value < self.value:\n",
    "            if self.left is not None:\n",
    "                self.left.remove(value, self)\n",
    "        elif value > self.value:\n",
    "            if self.right is not None:\n",
    "                self.right.remove(value, self)\n",
    "                \n",
    "        else:\n",
    "            if self.left is not None and self.right is not None:\n",
    "                self.value == self.right.get_min()\n",
    "                self.right.remove(self.value, self)\n",
    "            elif parent is None:\n",
    "                if self.left is not None:\n",
    "                    self.value = self.left.value\n",
    "                    self.right = self.left.right\n",
    "                    self.left = self.left.left  \n",
    "                elif self.right is not None:\n",
    "                    self.value = self.right.value\n",
    "                    self.right = self.right.right\n",
    "                    self.left = self.right.left\n",
    "                    \n",
    "                else:\n",
    "                    self.value = None\n",
    "                    \n",
    "            elif parent.left == self:\n",
    "                parent.left = self.left if self.left is not None else self.right\n",
    "            elif parent.right == self:\n",
    "                parent.right = self.right if self.right is not None else self.right\n",
    "            return self\n",
    "        \n",
    "bst = BST(15)\n",
    "bst.insert(5)\n",
    "bst.insert(17)\n",
    "bst.insert(7)\n",
    "bst.insert(3)\n",
    "bst.insert(2)\n",
    "bst.insert(1)\n",
    "\n",
    "print(bst.contains(2))\n",
    "print(bst.contains(4))\n",
    "print(bst.get_min())\n",
    "print(bst.get_max())\n",
    "print(bst.remove(3))\n",
    "print(bst.remove(1))\n",
    "print(bst.get_min())\n",
    "\n",
    "bst.left.right.value"
   ]
  },
  {
   "cell_type": "markdown",
   "metadata": {},
   "source": [
    "# Homework"
   ]
  },
  {
   "cell_type": "markdown",
   "metadata": {},
   "source": [
    "#### Problem 1: Linked Lists\n",
    "\n",
    "Using the above examples as a guide, create your own interpretation of the a Linked List class. You can not use the code above exactly, but again it can be used as a guide. This problem requires you to think about how a linked list works and create one using your own logic.\n",
    "\n",
    "*Remember* A Linked List is a list of Nodes that point to the next node in the chain. The first Node starts out as Empty(None) and each node after points to the next.\n",
    "\n",
    "Your Linked List should have a traverse method and have the ability to add a new node"
   ]
  },
  {
   "cell_type": "code",
   "execution_count": 8,
   "metadata": {},
   "outputs": [
    {
     "name": "stdout",
     "output_type": "stream",
     "text": [
      "January\n",
      "February\n",
      "March\n",
      "April\n",
      "May\n",
      "June\n"
     ]
    }
   ],
   "source": [
    "class Node:\n",
    "    def __init__(self, value):                  # This is a piece of our data-structure\n",
    "        self.value = value\n",
    "        self.next = None\n",
    "\n",
    "class Linked_List:                              # This is going to have all of our navigation and node option methods\n",
    "    \n",
    "    def __init__(self):\n",
    "        self.head = None                        # Create a head, but it is nothing\n",
    "\n",
    "    def modify_head(self, new_val):\n",
    "        new_node = Node(new_val)                # Passing in the new value to the new instance of parent class Node\n",
    "        new_node.next = self.head               # Assigning the value an attirbute of next so that way it gets attached to the Linked List and now the Linked List head is the newest value that was added. \n",
    "        self.head = new_node                    # Attaching the head to the new_node\n",
    "        \n",
    "\n",
    "    def add(self, preceding_node, new_val):\n",
    "        if preceding_node == None:              # First we need to check if the previous node even exist\n",
    "            print(\"This node is empty\")\n",
    "            return\n",
    "\n",
    "        new_node = Node(new_val)                # This is creating a new node with that new value\n",
    "        new_node.next = preceding_node.next     # Assigning the new_node to the previous_nodes next\n",
    "        preceding_node.next = new_node          # Updating the previous node's next to the new_node that has been created\n",
    "\n",
    "    def span_nodes(self):\n",
    "        node = self.head\n",
    "        while node != None:\n",
    "            print(node.value)\n",
    "            node = node.next\n",
    "\n",
    "    def modify_end(self, new_val):              # This will add it to the end of the list\n",
    "        new_node = Node(new_val)                # Creating a new node\n",
    "        if self.head == None:                   # First, you have to check to see if there is even a Linked List established\n",
    "            self.head = new_node                # If there is no Head, then the new_value inserted will be the Head\n",
    "            return\n",
    "\n",
    "        end = self.head                         # If the list is not empty, we have to traverse to the end of the list and add the new_node to the end\n",
    "        while end.next:\n",
    "            end = end.next\n",
    "\n",
    "        end.next = new_node                     # Once we have traversed to the end of the list, then we set the new_node to the end of the list\n",
    "\n",
    "\n",
    "month_link = Linked_List()\n",
    "month_link.modify_head('February')\n",
    "month_link.modify_end('June')\n",
    "month_link.add(month_link.head, 'March')\n",
    "month_link.add(month_link.head.next, 'April')\n",
    "month_link.add(month_link.head.next.next, 'May')\n",
    "month_link.modify_head('January')\n",
    "\n",
    "month_link.span_nodes()\n",
    "\n"
   ]
  },
  {
   "cell_type": "markdown",
   "metadata": {},
   "source": [
    "#### Problem 2: Binary Search Tree\n",
    "\n",
    "Using the above examples as a guide, create your own interpretation of the a Binary Search Tree class. You can not use the code above exactly, but again it can be used as a guide. This problem requires you to think about how a Binary Search Tree works and create one using your own logic.\n",
    "\n",
    "*Remember* Binary Search Trees start with a head node and each node to the left of that will be smaller, each node to the right of it will be greater. The far left node should be the lowest number(if one exists) that is available. The far right node (if one exists) should be the greatest number"
   ]
  },
  {
   "cell_type": "code",
   "execution_count": 2,
   "metadata": {},
   "outputs": [
    {
     "name": "stdout",
     "output_type": "stream",
     "text": [
      "5 is not in the list\n",
      "25\n",
      "1\n"
     ]
    }
   ],
   "source": [
    "class Binary_Search:\n",
    "    \n",
    "    def __init__(self, value):\n",
    "        self.value = value                      # Head value\n",
    "        self.left = None \n",
    "        self.right = None\n",
    "    \n",
    "    def min_value(self):                        # When called, it will pull out the minium value of the list\n",
    "        if self.left == None:                   # This means that if there is nothing to the left of the most left Node, then it needs to return that value since it's the smalled value\n",
    "            return self.value                   # Returning value since it's the lowest\n",
    "        else:                                   # If there is something to the left of self.left than that value is the smallest and needs to be returned\n",
    "            return self.left.min_value()        # This is the smallest value on the left side of the tree\n",
    "    \n",
    "    def max_value(self):                        # When called, it will pull out the max value of the list same priciple as left, but for the right side of the tree\n",
    "        if self.right == None:\n",
    "            return self.value\n",
    "        else:\n",
    "            return self.right.max_value()\n",
    "\n",
    "    def does_contain(self, value):              # This method is going to see if a specific value is inside of the list\n",
    "        if value < self.value:                  # This is checking the left side of the tree. It's comparing the value you want to search and making sure it's less than the Head value\n",
    "            if self.left == None:\n",
    "                return f\"{value} is not in the list\"     # Not in the list\n",
    "            else:\n",
    "                return self.left.does_contain(value)     # We need to return so that way we get an answer. Does it contain this value?\n",
    "\n",
    "        elif value > self.value:                         # Now we check the right-side of the tree\n",
    "            if self.right == None:                       # If the value is greater than the head value than it will be on the right-side of the tree\n",
    "                return f\"{value} is not in the list\"     # Not in the list\n",
    "            else:\n",
    "                return self.right.does_contain(value)    # Passing in the value and returning it to the Head\n",
    "        else:                                            # Means it's not greater nor less it's equal and so it returns what you're looking for\n",
    "            return f\"{value} is in the list!\"\n",
    "\n",
    "    \n",
    "    def add(self, value):                             # Allows you to insert a value in the list\n",
    "        if value < self.value:                           # This is comparing the inserted value to the head value\n",
    "            if self.left == None:                        # If there is nothing to the left of the head value, then the below code block executes creating a new Search Tree with that Value\n",
    "                self.left = Binary_Search(value)         # This is creating a new head value, under the original head value and placing it to the left since it is less than the Head value\n",
    "            else:\n",
    "                self.left.add(value)                  # This is a recurrsion call. It will continue until the value is placed in the correct branch node\n",
    "                \n",
    "        else:                                            # This code block executes if it's greater than the self.value\n",
    "            if self.right == None:                       # If the Node doesn't have a value. . . \n",
    "                self.right = Binary_Search(value)        # Then whichever value is being passed through will be inserted as the Node value on the right\n",
    "            else:\n",
    "                self.right.add(value)                 # If it is None then it will just insert the new value\n",
    "                \n",
    "        return self\n",
    "    \n",
    "    def eliminate(self, value, parent=None):               # Allows you to remove a value in the list. Have to pick a value you want to remove. Have to put in Parent so the values underneath the value being removed are being reattached to the Parent\n",
    "        if value < self.value:\n",
    "            if self.left != None:\n",
    "                self.left.eliminate(value, self)           # Another recurrive call. You have to pass in the value that you want to remove(value) and then which ever Node is self.left at the moment will call the function remove, then self(Parent or Head) so that way the values underneath this get attached the Parent Node that called it\n",
    "        \n",
    "        elif value > self.value:                         # Runnning same check for the right side\n",
    "            if self.right != None:\n",
    "                self.right.eliminate(value, self)\n",
    "        \n",
    "        else:                                            # else means that it exist and we have the value we want to remove\n",
    "\n",
    "            if self.left != None and self.right != None: \n",
    "                self.value = self.right.min_value()      # Calling this since the min_value method searches for the smalles value in that sub-tree on the right to pull the smallest value. Pulling the smallest value on the right ensures you've pulled a greater value then the one on the left and lower value than on the right\n",
    "                self.right.eliminate(self.value, self)     # This will reset the values. \n",
    "            elif parent == None:                         # This code block is resetting the sub-tree nodes\n",
    "\n",
    "                if self.left != None:                    # Meaning there is a value in self.left\n",
    "                    self.value = self.left.value         # Setting that value as the new value in self.left\n",
    "                    self.right = self.left.right         # Setting the new right value to the left of the new left value\n",
    "                    self.left = self.left.left           # Setting the new left value, to the new left value (Lowest value on the left sub-Tree)\n",
    "                elif self.right != None:                 # Applying same chain reaction to the right of the sub-tree now\n",
    "                    self.value = self.right.value\n",
    "                    self.right = self.right.right\n",
    "                    self.left = self.right.left\n",
    "                else:\n",
    "                    self.value = None                    # There is no left, or right value to remove. \n",
    "\n",
    "            elif parent.left == self:                    # Now we are accounting for is there is a parent value\n",
    "                parent.left = self.left if self.left != None else self.right\n",
    "            elif parent.right == self:\n",
    "                parent.right = self.left if self.left != None else self.right\n",
    "        return self\n",
    "\n",
    "binary_search = Binary_Search(25)\n",
    "binary_search.add(6)\n",
    "binary_search.add(16)\n",
    "binary_search.add(7)\n",
    "binary_search.add(1)\n",
    "binary_search.add(18)\n",
    "binary_search.add(240)\n",
    "binary_search.eliminate(240)\n",
    "\n",
    "print(binary_search.does_contain(5))\n",
    "print(binary_search.max_value())\n",
    "print(binary_search.min_value())\n",
    "    "
   ]
  },
  {
   "cell_type": "code",
   "execution_count": null,
   "metadata": {},
   "outputs": [],
   "source": []
  }
 ],
 "metadata": {
  "kernelspec": {
   "display_name": "Python 3 (ipykernel)",
   "language": "python",
   "name": "python3"
  },
  "language_info": {
   "codemirror_mode": {
    "name": "ipython",
    "version": 3
   },
   "file_extension": ".py",
   "mimetype": "text/x-python",
   "name": "python",
   "nbconvert_exporter": "python",
   "pygments_lexer": "ipython3",
   "version": "3.9.7"
  }
 },
 "nbformat": 4,
 "nbformat_minor": 2
}
